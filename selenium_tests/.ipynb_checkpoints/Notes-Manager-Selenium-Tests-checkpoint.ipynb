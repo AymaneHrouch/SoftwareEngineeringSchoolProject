{
 "cells": [
  {
   "cell_type": "code",
   "execution_count": 11,
   "id": "980dfdd0",
   "metadata": {},
   "outputs": [],
   "source": [
    "from Util import Chrome_driver\n",
    "from selenium import webdriver\n",
    "from selenium.webdriver.chrome.options import Options\n",
    "from selenium.webdriver.common.by import By\n",
    "\n",
    "options = Options()\n",
    "# options.add_argument('--headless')"
   ]
  },
  {
   "cell_type": "code",
   "execution_count": 29,
   "id": "680d58d5",
   "metadata": {},
   "outputs": [],
   "source": [
    "class Logger:\n",
    "    def __init__(self):\n",
    "        self.current = 0\n",
    "        self.total = 0\n",
    "        self.passed_n = 0\n",
    "        \n",
    "    def passed(self):\n",
    "        self.current += 1\n",
    "        print(f\"Test {self.current}: PASSED\")\n",
    "        self.passed_n += 1\n",
    "        self.total += 1\n",
    "        \n",
    "        \n",
    "    def failed(self):\n",
    "        self.current += 1\n",
    "        print(f\"Test {self.current}: FAILED\")\n",
    "        self.total += 1\n",
    "        \n",
    "    def report(self):\n",
    "        print(f\"{self.passed_n}/{self.total} TEST PASSED\")"
   ]
  },
  {
   "cell_type": "code",
   "execution_count": 8,
   "id": "ac02f394",
   "metadata": {},
   "outputs": [],
   "source": [
    "driver = Chrome_driver(options=options)"
   ]
  },
  {
   "cell_type": "code",
   "execution_count": 9,
   "id": "684840fc",
   "metadata": {},
   "outputs": [],
   "source": [
    "base_url = \"http://127.0.0.1:8181/\""
   ]
  },
  {
   "cell_type": "code",
   "execution_count": 30,
   "id": "56a4659a",
   "metadata": {},
   "outputs": [],
   "source": [
    "logger = Logger()"
   ]
  },
  {
   "cell_type": "code",
   "execution_count": 31,
   "id": "f15138e7",
   "metadata": {},
   "outputs": [
    {
     "name": "stdout",
     "output_type": "stream",
     "text": [
      "Test 0: PASSED\n"
     ]
    }
   ],
   "source": [
    "# Test Login\n",
    "\n",
    "## username and password empty\n",
    "\n",
    "driver.get(base_url + \"login.html\")\n",
    "username = driver.find_element(By.ID, \"username\")\n",
    "password = driver.find_element(By.ID, \"password\")\n",
    "login_button = driver.find_element(By.XPATH, '//*[@id=\"login-form\"]/input[3]')\n",
    "\n",
    "login_button.click()\n",
    "\n",
    "result = driver.find_element(By.TAG_NAME, \"body\").text\n",
    "\n",
    "if(\"Your credentials are NOT correct\" in result):\n",
    "    logger.passed()\n",
    "else:\n",
    "    logger.failed()"
   ]
  },
  {
   "cell_type": "code",
   "execution_count": 28,
   "id": "fb3b8edb",
   "metadata": {},
   "outputs": [
    {
     "data": {
      "text/plain": [
       "0"
      ]
     },
     "execution_count": 28,
     "metadata": {},
     "output_type": "execute_result"
    }
   ],
   "source": [
    "logger."
   ]
  },
  {
   "cell_type": "code",
   "execution_count": null,
   "id": "8be1979e",
   "metadata": {},
   "outputs": [],
   "source": []
  }
 ],
 "metadata": {
  "kernelspec": {
   "display_name": "Python 3 (ipykernel)",
   "language": "python",
   "name": "python3"
  },
  "language_info": {
   "codemirror_mode": {
    "name": "ipython",
    "version": 3
   },
   "file_extension": ".py",
   "mimetype": "text/x-python",
   "name": "python",
   "nbconvert_exporter": "python",
   "pygments_lexer": "ipython3",
   "version": "3.10.6"
  }
 },
 "nbformat": 4,
 "nbformat_minor": 5
}
