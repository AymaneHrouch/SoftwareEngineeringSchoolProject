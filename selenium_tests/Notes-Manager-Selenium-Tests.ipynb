{
 "cells": [
  {
   "cell_type": "code",
   "execution_count": 78,
   "id": "42582fd4",
   "metadata": {},
   "outputs": [],
   "source": [
    "from Util import Chrome_driver\n",
    "from selenium import webdriver\n",
    "from selenium.webdriver.chrome.options import Options\n",
    "from selenium.webdriver.common.by import By\n",
    "import time\n",
    "\n",
    "options = Options()\n",
    "# options.add_argument('--headless')"
   ]
  },
  {
   "cell_type": "code",
   "execution_count": 79,
   "id": "9d06394a",
   "metadata": {},
   "outputs": [],
   "source": [
    "class Logger:\n",
    "    def __init__(self):\n",
    "        self.current = 0\n",
    "        self.total = 0\n",
    "        self.passed_n = 0\n",
    "        \n",
    "    def passed(self):\n",
    "        self.current += 1\n",
    "        print(f\"Test {self.current}: PASSED\")\n",
    "        self.passed_n += 1\n",
    "        self.total += 1\n",
    "        \n",
    "        \n",
    "    def failed(self):\n",
    "        self.current += 1\n",
    "        print(f\"Test {self.current}: FAILED\")\n",
    "        self.total += 1\n",
    "        \n",
    "    def report(self):\n",
    "        print(f\"{self.passed_n}/{self.total} TEST PASSED\")"
   ]
  },
  {
   "cell_type": "code",
   "execution_count": 85,
   "id": "7e969a2d",
   "metadata": {},
   "outputs": [],
   "source": [
    "driver = Chrome_driver(options=options)"
   ]
  },
  {
   "cell_type": "code",
   "execution_count": 86,
   "id": "ba399edf",
   "metadata": {},
   "outputs": [],
   "source": [
    "base_url = \"http://127.0.0.1:8181/\""
   ]
  },
  {
   "cell_type": "code",
   "execution_count": 87,
   "id": "b620d90c",
   "metadata": {},
   "outputs": [],
   "source": [
    "logger = Logger()"
   ]
  },
  {
   "cell_type": "code",
   "execution_count": 88,
   "id": "5ae608fc",
   "metadata": {},
   "outputs": [
    {
     "name": "stdout",
     "output_type": "stream",
     "text": [
      "Test 1: FAILED\n"
     ]
    }
   ],
   "source": [
    "# Test Login\n",
    "\n",
    "## username and password empty\n",
    "\n",
    "driver.get(base_url + \"login.html\")\n",
    "username = driver.find_element(By.ID, \"username\")\n",
    "password = driver.find_element(By.ID, \"password\")\n",
    "login_button = driver.find_element(By.XPATH, '//*[@id=\"login-form\"]/input[3]')\n",
    "\n",
    "login_button.click()\n",
    "\n",
    "result = driver.find_element(By.TAG_NAME, \"body\").text\n",
    "\n",
    "if(\"Your credentials are NOT correct\" in result):\n",
    "    logger.passed()\n",
    "else:\n",
    "    logger.failed()"
   ]
  },
  {
   "cell_type": "code",
   "execution_count": 90,
   "id": "eb66f479",
   "metadata": {},
   "outputs": [
    {
     "name": "stdout",
     "output_type": "stream",
     "text": [
      "Test 3: PASSED\n"
     ]
    }
   ],
   "source": [
    "## username not empty and password empty\n",
    "\n",
    "driver.get(base_url + \"login.html\")\n",
    "username = driver.find_element(By.ID, \"username\")\n",
    "password = driver.find_element(By.ID, \"password\")\n",
    "login_button = driver.find_element(By.XPATH, '//*[@id=\"login-form\"]/input[3]')\n",
    "\n",
    "login_button.click()\n",
    "\n",
    "result = driver.find_element(By.TAG_NAME, \"body\").text\n",
    "\n",
    "if(\"Your credentials are NOT correct\" in result):\n",
    "    logger.passed()\n",
    "else:\n",
    "    logger.failed()"
   ]
  },
  {
   "cell_type": "code",
   "execution_count": 91,
   "id": "aa34781c",
   "metadata": {},
   "outputs": [
    {
     "name": "stdout",
     "output_type": "stream",
     "text": [
      "Test 4: PASSED\n"
     ]
    }
   ],
   "source": [
    "## username empty and password not empty\n",
    "\n",
    "driver.get(base_url + \"login.html\")\n",
    "username = driver.find_element(By.ID, \"username\")\n",
    "password = driver.find_element(By.ID, \"password\")\n",
    "login_button = driver.find_element(By.XPATH, '//*[@id=\"login-form\"]/input[3]')\n",
    "\n",
    "login_button.click()\n",
    "\n",
    "result = driver.find_element(By.TAG_NAME, \"body\").text\n",
    "\n",
    "if(\"Your credentials are NOT correct\" in result):\n",
    "    logger.passed()\n",
    "else:\n",
    "    logger.failed()"
   ]
  },
  {
   "cell_type": "code",
   "execution_count": 92,
   "id": "54e9f673",
   "metadata": {},
   "outputs": [
    {
     "name": "stdout",
     "output_type": "stream",
     "text": [
      "Test 5: PASSED\n"
     ]
    }
   ],
   "source": [
    "## username correct and password not correct\n",
    "\n",
    "driver.get(base_url + \"login.html\")\n",
    "username = driver.find_element(By.ID, \"username\")\n",
    "password = driver.find_element(By.ID, \"password\")\n",
    "login_button = driver.find_element(By.XPATH, '//*[@id=\"login-form\"]/input[3]')\n",
    "\n",
    "username.send_keys(\"admin\")\n",
    "password.send_keys(\"wrong_password\")\n",
    "\n",
    "login_button.click()\n",
    "\n",
    "result = driver.find_element(By.TAG_NAME, \"body\").text\n",
    "\n",
    "if(\"Your credentials are NOT correct\" in result):\n",
    "    logger.passed()\n",
    "else:\n",
    "    logger.failed()"
   ]
  },
  {
   "cell_type": "code",
   "execution_count": 73,
   "id": "8ba7acad",
   "metadata": {},
   "outputs": [
    {
     "name": "stdout",
     "output_type": "stream",
     "text": [
      "Test 6: FAILED\n"
     ]
    }
   ],
   "source": [
    "## username correct and password correct\n",
    "\n",
    "## example of failed test\n",
    "driver.get(base_url + \"login.html\")\n",
    "username = driver.find_element(By.ID, \"username\")\n",
    "password = driver.find_element(By.ID, \"password\")\n",
    "login_button = driver.find_element(By.XPATH, '//*[@id=\"login-form\"]/input[3]')\n",
    "\n",
    "username.send_keys(\"admin\")\n",
    "password.send_keys(\"admin\")\n",
    "\n",
    "login_button.click()\n",
    "time.sleep(0.5)\n",
    "\n",
    "result = driver.find_element(By.TAG_NAME, \"body\").text\n",
    "\n",
    "if(\"Your credentials are NOT correct\" in result):\n",
    "    logger.passed()\n",
    "else:\n",
    "    logger.failed()"
   ]
  },
  {
   "cell_type": "code",
   "execution_count": 93,
   "id": "7bd8f7eb",
   "metadata": {},
   "outputs": [
    {
     "name": "stdout",
     "output_type": "stream",
     "text": [
      "Test 6: PASSED\n"
     ]
    }
   ],
   "source": [
    "## username correct and password correct\n",
    "## should pass\n",
    "\n",
    "## example of failed test\n",
    "driver.get(base_url + \"login.html\")\n",
    "username = driver.find_element(By.ID, \"username\")\n",
    "password = driver.find_element(By.ID, \"password\")\n",
    "login_button = driver.find_element(By.XPATH, '//*[@id=\"login-form\"]/input[3]')\n",
    "\n",
    "username.send_keys(\"admin\")\n",
    "password.send_keys(\"admin\")\n",
    "\n",
    "login_button.click()\n",
    "\n",
    "result = driver.find_element(By.TAG_NAME, \"body\").text\n",
    "\n",
    "if(\"Gestion\" in result):\n",
    "    logger.passed()\n",
    "else:\n",
    "    logger.failed()"
   ]
  },
  {
   "cell_type": "code",
   "execution_count": 94,
   "id": "c493b349",
   "metadata": {},
   "outputs": [
    {
     "name": "stdout",
     "output_type": "stream",
     "text": [
      "Test 7: PASSED\n"
     ]
    }
   ],
   "source": [
    "## Test Add Professor\n",
    "\n",
    "driver.get(base_url + \"professors.html\")\n",
    "number_of_lines = driver.execute_script(\"\"\"return document.querySelector(\"table tbody\").children.length\"\"\")\n",
    "driver.find_element(By.XPATH, \"\"\"/html/body/a\"\"\").click()\n",
    "driver.find_element(By.ID, \"\"\"firstName\"\"\").send_keys(\"professor_test\")\n",
    "driver.find_element(By.ID, \"\"\"lastName\"\"\").send_keys(\"professor_lastname\")\n",
    "driver.find_element(By.ID, \"\"\"speciality\"\"\").send_keys(\"professor_speciality\")\n",
    "# submit form\n",
    "driver.find_element(By.XPATH, \"\"\"//*[@id=\"myform\"]/button\"\"\").click()\n",
    "driver.get(base_url + \"professors.html\")\n",
    "\n",
    "number_of_lines_new = driver.execute_script(\"\"\"return document.querySelector(\"table tbody\").children.length\"\"\")\n",
    "if(number_of_lines_new == number_of_lines + 1):\n",
    "    logger.passed()\n",
    "else:\n",
    "    logger.failed()"
   ]
  },
  {
   "cell_type": "code",
   "execution_count": 95,
   "id": "41a89ce6",
   "metadata": {},
   "outputs": [
    {
     "name": "stdout",
     "output_type": "stream",
     "text": [
      "Test 8: PASSED\n"
     ]
    }
   ],
   "source": [
    "## Test Delete Professor\n",
    "\n",
    "driver.get(base_url + \"professors.html\")\n",
    "number_of_lines = driver.execute_script(\"\"\"return document.querySelector(\"table tbody\").children.length\"\"\")\n",
    "\n",
    "delete_btn = driver.execute_script(\"\"\"return document.querySelectorAll(\".delete-btn\")[document.querySelectorAll(\".delete-btn\").length - 1]\"\"\")\n",
    "professor_id = driver.execute_script(\"\"\"return document.querySelectorAll(\".delete-btn\")[document.querySelectorAll(\".delete-btn\").length - 1].getAttribute(\"professor-id\")\"\"\")\n",
    "\n",
    "## Delete last professor\n",
    "delete_btn.click()\n",
    "time.sleep(0.5)\n",
    "\n",
    "\n",
    "number_of_lines_new = driver.execute_script(\"\"\"return document.querySelector(\"table tbody\").children.length\"\"\")\n",
    "professor_id_new = driver.execute_script(\"\"\"return document.querySelectorAll(\".delete-btn\")[document.querySelectorAll(\".delete-btn\").length - 1].getAttribute(\"professor-id\")\"\"\")\n",
    "if(number_of_lines_new == number_of_lines - 1 and professor_id_new != professor_id):\n",
    "    logger.passed()\n",
    "else:\n",
    "    print(number_of_lines_new)\n",
    "    print(number_of_lines)\n",
    "    print(professor_id_new)\n",
    "    print(professor_id)\n",
    "    logger.failed()"
   ]
  },
  {
   "cell_type": "code",
   "execution_count": 96,
   "id": "96b64563",
   "metadata": {},
   "outputs": [
    {
     "name": "stdout",
     "output_type": "stream",
     "text": [
      "7/8 TEST PASSED\n"
     ]
    }
   ],
   "source": [
    "logger.report()"
   ]
  },
  {
   "cell_type": "code",
   "execution_count": null,
   "id": "fa8506c2",
   "metadata": {},
   "outputs": [],
   "source": []
  }
 ],
 "metadata": {
  "kernelspec": {
   "display_name": "Python 3 (ipykernel)",
   "language": "python",
   "name": "python3"
  },
  "language_info": {
   "codemirror_mode": {
    "name": "ipython",
    "version": 3
   },
   "file_extension": ".py",
   "mimetype": "text/x-python",
   "name": "python",
   "nbconvert_exporter": "python",
   "pygments_lexer": "ipython3",
   "version": "3.10.6"
  }
 },
 "nbformat": 4,
 "nbformat_minor": 5
}
